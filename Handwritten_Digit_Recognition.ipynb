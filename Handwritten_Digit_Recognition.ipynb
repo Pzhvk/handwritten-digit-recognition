{
  "cells": [
    {
      "cell_type": "markdown",
      "metadata": {
        "id": "NYoAVjMRGpta"
      },
      "source": [
        "Import Libraries"
      ]
    },
    {
      "cell_type": "code",
      "execution_count": 1,
      "metadata": {
        "id": "H-z1iO5lGTu9"
      },
      "outputs": [],
      "source": [
        "import numpy as np\n",
        "import tensorflow as tf\n",
        "from tensorflow.keras.models import Sequential\n",
        "from tensorflow.keras.layers import Dense, InputLayer\n",
        "from tensorflow.keras.activations import linear, relu\n",
        "import matplotlib.pyplot as plt"
      ]
    },
    {
      "cell_type": "markdown",
      "metadata": {
        "id": "Bj8D1cqIHqHo"
      },
      "source": [
        "Importing Dataset"
      ]
    },
    {
      "cell_type": "code",
      "execution_count": 2,
      "metadata": {
        "id": "lITOTVVKHtwr"
      },
      "outputs": [],
      "source": [
        "x = np.load(\"data/X.npy\")\n",
        "y = np.load(\"data/y.npy\")\n",
        "train_x = x\n",
        "train_y = y\n",
        "test_x = x[::10]\n",
        "test_y = y[::10]"
      ]
    },
    {
      "cell_type": "markdown",
      "metadata": {
        "id": "D6anj7pdIkKH"
      },
      "source": [
        "Visualising Dataset (Selecting 64 Random Images And Their Corresponding Label)"
      ]
    },
    {
      "cell_type": "code",
      "execution_count": null,
      "metadata": {
        "id": "4SL2bnS9InNW"
      },
      "outputs": [],
      "source": [
        "def display_digit(X):\n",
        "    fig, ax = plt.subplots(1,1, figsize=(0.5,0.5))\n",
        "    widgvis(fig)\n",
        "    X_reshaped = X.reshape((20,20)).T\n",
        "    ax.imshow(X_reshaped, cmap='gray')\n",
        "    plt.show()\n",
        "\n",
        "def widgvis(fig):\n",
        "    fig.canvas.toolbar_visible = False\n",
        "    fig.canvas.header_visible = False\n",
        "    fig.canvas.footer_visible = False\n",
        "\n",
        "m, n = train_x.shape\n",
        "selected_indices = []\n",
        "\n",
        "fig, axes = plt.subplots(8,8, figsize=(5,5))\n",
        "fig.tight_layout(pad=0.13,rect=[0, 0.03, 1, 0.91])\n",
        "widgvis(fig)\n",
        "\n",
        "for i,ax in enumerate(axes.flat):\n",
        "    random_index = np.random.randint(m)\n",
        "    selected_indices.append(random_index)\n",
        "    X_random_reshaped = train_x[random_index].reshape((20,20)).T\n",
        "    ax.imshow(X_random_reshaped, cmap='gray')\n",
        "    ax.set_title(train_y[random_index,0])\n",
        "    ax.set_axis_off()\n",
        "    fig.suptitle(\"Label, image\", fontsize=14)"
      ]
    },
    {
      "cell_type": "markdown",
      "metadata": {
        "id": "20XjjDVwKIe4"
      },
      "source": [
        "Constructing Our Model"
      ]
    },
    {
      "cell_type": "code",
      "execution_count": null,
      "metadata": {
        "id": "zBymjhOLK5m5"
      },
      "outputs": [],
      "source": [
        "tf.random.set_seed(1234)\n",
        "model = Sequential(\n",
        "    [\n",
        "        InputLayer(shape=(400,)),\n",
        "        Dense(25, activation='relu', name='L1'),\n",
        "        Dense(15, activation='relu', name='L2'),\n",
        "        Dense(10, activation='linear', name='L3'),\n",
        "    ]\n",
        ")\n",
        "\n",
        "model.compile(\n",
        "    loss=tf.keras.losses.SparseCategoricalCrossentropy(from_logits=True),\n",
        "    optimizer=tf.keras.optimizers.Adam(0.001)\n",
        ")\n",
        "\n",
        "model.summary()"
      ]
    },
    {
      "cell_type": "markdown",
      "metadata": {
        "id": "su4MGtH_LhVM"
      },
      "source": [
        "Training Our Model (The More Iteration It Does, The More Accurate It Becomes)"
      ]
    },
    {
      "cell_type": "code",
      "execution_count": null,
      "metadata": {
        "id": "T_0BTKW6LjRO"
      },
      "outputs": [],
      "source": [
        "history = model.fit(\n",
        "    train_x, train_y,\n",
        "    epochs=500\n",
        ")"
      ]
    },
    {
      "cell_type": "markdown",
      "metadata": {
        "id": "REoqjw2PNR3Y"
      },
      "source": [
        "Visualising Our Loss Function Value"
      ]
    },
    {
      "cell_type": "code",
      "execution_count": null,
      "metadata": {
        "id": "Mf8f96uZNMCt"
      },
      "outputs": [],
      "source": [
        "fig,ax = plt.subplots(1,1, figsize = (4,3))\n",
        "ax.plot(history.history['loss'], label='loss')\n",
        "ax.set_ylim([0, 2])\n",
        "ax.set_xlabel('Epoch')\n",
        "ax.set_ylabel('loss (cost)')\n",
        "ax.legend()\n",
        "ax.grid(True)\n",
        "plt.show()"
      ]
    },
    {
      "cell_type": "markdown",
      "source": [
        "Prediction"
      ],
      "metadata": {
        "id": "UcpazEpwRLXA"
      }
    },
    {
      "cell_type": "code",
      "source": [
        "error_count = 0\n",
        "for index in range (500):\n",
        "  test_input = test_x[index]\n",
        "  test_output = test_y[index]\n",
        "  prediction = model.predict(test_input.reshape(1,400))\n",
        "  if test_output != np.argmax(prediction):\n",
        "    print(\"Error Detected!\")\n",
        "    print(f\" Predicted Digit: {np.argmax(prediction)}\")\n",
        "    print(f\" Correct Digit: {test_output[0]}\")\n",
        "    print(f\" Digit Image:\")\n",
        "    display_digit(test_x[index])\n",
        "    error_count += 1\n",
        "print(\"Errors :\", error_count)"
      ],
      "metadata": {
        "id": "rhOVYScbRN0Y"
      },
      "execution_count": null,
      "outputs": []
    }
  ],
  "metadata": {
    "colab": {
      "provenance": [],
      "authorship_tag": "ABX9TyPT4Yrh4EoAwc34RCl8sjHl"
    },
    "kernelspec": {
      "display_name": "Python 3",
      "name": "python3"
    },
    "language_info": {
      "name": "python"
    }
  },
  "nbformat": 4,
  "nbformat_minor": 0
}