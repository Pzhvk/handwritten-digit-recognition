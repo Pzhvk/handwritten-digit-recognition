{
  "cells": [
    {
      "cell_type": "markdown",
      "metadata": {
        "id": "NYoAVjMRGpta"
      },
      "source": [
        "Import Libraries"
      ]
    },
    {
      "cell_type": "code",
      "execution_count": 46,
      "metadata": {
        "id": "H-z1iO5lGTu9"
      },
      "outputs": [],
      "source": [
        "import numpy as np\n",
        "import tensorflow as tf\n",
        "from tensorflow.keras.models import Sequential\n",
        "from tensorflow.keras.layers import Dense, InputLayer\n",
        "from tensorflow.keras.activations import linear, relu\n",
        "import matplotlib.pyplot as plt"
      ]
    },
    {
      "cell_type": "markdown",
      "metadata": {
        "id": "Bj8D1cqIHqHo"
      },
      "source": [
        "Importing Dataset"
      ]
    },
    {
      "cell_type": "code",
      "execution_count": 47,
      "metadata": {
        "id": "lITOTVVKHtwr"
      },
      "outputs": [],
      "source": [
        "train_x = np.load(\"data/X.npy\")\n",
        "train_y = np.load(\"data/y.npy\")"
      ]
    },
    {
      "cell_type": "markdown",
      "metadata": {
        "id": "D6anj7pdIkKH"
      },
      "source": [
        "Visualising Dataset (Selecting 64 Random Images And Their Corresponding Label)"
      ]
    },
    {
      "cell_type": "code",
      "execution_count": null,
      "metadata": {
        "id": "4SL2bnS9InNW"
      },
      "outputs": [],
      "source": [
        "def display_digit(X):\n",
        "    fig, ax = plt.subplots(1,1, figsize=(0.5,0.5))\n",
        "    widgvis(fig)\n",
        "    X_reshaped = X.reshape((20,20)).T\n",
        "    ax.imshow(X_reshaped, cmap='gray')\n",
        "    plt.show()\n",
        "\n",
        "def widgvis(fig):\n",
        "    fig.canvas.toolbar_visible = False\n",
        "    fig.canvas.header_visible = False\n",
        "    fig.canvas.footer_visible = False\n",
        "\n",
        "m, n = train_x.shape\n",
        "selected_indices = []\n",
        "\n",
        "fig, axes = plt.subplots(8,8, figsize=(5,5))\n",
        "fig.tight_layout(pad=0.13,rect=[0, 0.03, 1, 0.91])\n",
        "widgvis(fig)\n",
        "\n",
        "for i,ax in enumerate(axes.flat):\n",
        "    random_index = np.random.randint(m)\n",
        "    selected_indices.append(random_index)\n",
        "    X_random_reshaped = train_x[random_index].reshape((20,20)).T\n",
        "    ax.imshow(X_random_reshaped, cmap='gray')\n",
        "    ax.set_title(train_y[random_index,0])\n",
        "    ax.set_axis_off()\n",
        "    fig.suptitle(\"Label, image\", fontsize=14)"
      ]
    },
    {
      "cell_type": "markdown",
      "metadata": {
        "id": "20XjjDVwKIe4"
      },
      "source": [
        "Constructing Our Model"
      ]
    },
    {
      "cell_type": "code",
      "execution_count": null,
      "metadata": {
        "id": "zBymjhOLK5m5"
      },
      "outputs": [],
      "source": [
        "tf.random.set_seed(1234)\n",
        "model = Sequential(\n",
        "    [\n",
        "        InputLayer(shape=(400,)),\n",
        "        Dense(25, activation='relu', name='L1'),\n",
        "        Dense(15, activation='relu', name='L2'),\n",
        "        Dense(10, activation='linear', name='L3'),\n",
        "    ]\n",
        ")\n",
        "\n",
        "model.compile(\n",
        "    loss=tf.keras.losses.SparseCategoricalCrossentropy(from_logits=True),\n",
        "    optimizer=tf.keras.optimizers.Adam(0.001)\n",
        ")\n",
        "\n",
        "model.summary()"
      ]
    },
    {
      "cell_type": "markdown",
      "metadata": {
        "id": "su4MGtH_LhVM"
      },
      "source": [
        "Training Our Model (The More Iteration It Does, The More Accurate It Becomes)"
      ]
    },
    {
      "cell_type": "code",
      "execution_count": null,
      "metadata": {
        "id": "T_0BTKW6LjRO"
      },
      "outputs": [],
      "source": [
        "history = model.fit(\n",
        "    train_x, train_y,\n",
        "    epochs=50\n",
        ")"
      ]
    },
    {
      "cell_type": "markdown",
      "metadata": {
        "id": "REoqjw2PNR3Y"
      },
      "source": [
        "Visualising Our Loss Function Value"
      ]
    },
    {
      "cell_type": "code",
      "execution_count": null,
      "metadata": {
        "id": "Mf8f96uZNMCt"
      },
      "outputs": [],
      "source": [
        "fig,ax = plt.subplots(1,1, figsize = (4,3))\n",
        "ax.plot(history.history['loss'], label='loss')\n",
        "ax.set_ylim([0, 2])\n",
        "ax.set_xlabel('Epoch')\n",
        "ax.set_ylabel('loss (cost)')\n",
        "ax.legend()\n",
        "ax.grid(True)\n",
        "plt.show()"
      ]
    },
    {
      "cell_type": "markdown",
      "source": [
        "Prediction"
      ],
      "metadata": {
        "id": "UcpazEpwRLXA"
      }
    },
    {
      "cell_type": "code",
      "source": [
        "index = np.random.randint(m)\n",
        "test_input = train_x[index]\n",
        "test_output = train_y[index]\n",
        "prediction = model.predict(test_input.reshape(1,400))\n",
        "print(f\" Predicted Digit: {np.argmax(prediction)}\")\n",
        "print(f\" Correct Digit: {test_output[0]}\")\n",
        "print(f\" Digit Image:\")\n",
        "display_digit(train_x[index])"
      ],
      "metadata": {
        "colab": {
          "base_uri": "https://localhost:8080/",
          "height": 192
        },
        "id": "rhOVYScbRN0Y",
        "outputId": "40d19912-313d-44c4-8119-59922a18a0ea"
      },
      "execution_count": 86,
      "outputs": [
        {
          "output_type": "stream",
          "name": "stdout",
          "text": [
            "\u001b[1m1/1\u001b[0m \u001b[32m━━━━━━━━━━━━━━━━━━━━\u001b[0m\u001b[37m\u001b[0m \u001b[1m0s\u001b[0m 23ms/step\n",
            " Predicted Digit: 6\n",
            " Correct Digit: 6\n",
            " Digit Image:\n"
          ]
        },
        {
          "output_type": "display_data",
          "data": {
            "text/plain": [
              "<Figure size 50x50 with 1 Axes>"
            ],
            "image/png": "[encoded data removed]"
          },
          "metadata": {}
        }
      ]
    }
  ],
  "metadata": {
    "colab": {
      "provenance": [],
      "authorship_tag": "ABX9TyMoKtzASLez0ieTzhbxaJfo"
    },
    "kernelspec": {
      "display_name": "Python 3",
      "name": "python3"
    },
    "language_info": {
      "name": "python"
    }
  },
  "nbformat": 4,
  "nbformat_minor": 0
}